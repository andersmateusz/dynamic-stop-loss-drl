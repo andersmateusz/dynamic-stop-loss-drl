{
 "cells": [
  {
   "cell_type": "code",
   "execution_count": 2,
   "metadata": {},
   "outputs": [],
   "source": [
    "import pandas as pd\n",
    "import backtrader as bt\n",
    "from pathlib import Path\n",
    "import numpy as np\n",
    "from config import config\n",
    "import tensorflow as tf\n",
    "from datetime import datetime\n",
    "from utils import create_tr_bt_feed, progress_info\n",
    "import os\n",
    "from drl_agent import DRLAgent\n",
    "from pathlib import  Path\n",
    "from strategies import  DRLStrategy\n",
    "from backtrader.sizers import PercentSizer\n",
    "from statistics import mean"
   ]
  },
  {
   "cell_type": "markdown",
   "metadata": {},
   "source": [
    "## Clear tensorflow session and set random seed for results reproduction"
   ]
  },
  {
   "cell_type": "code",
   "execution_count": 3,
   "metadata": {},
   "outputs": [],
   "source": [
    "tf.keras.backend.clear_session()\n",
    "np.random.seed(config['seed'])"
   ]
  },
  {
   "cell_type": "markdown",
   "metadata": {},
   "source": [
    "## Read tickers"
   ]
  },
  {
   "cell_type": "code",
   "execution_count": 4,
   "metadata": {},
   "outputs": [],
   "source": [
    "tic_filename = Path('data/nasdaq_index_list_filtered.csv')\n",
    "tickers = pd.read_csv(tic_filename)['0'].to_list()"
   ]
  },
  {
   "cell_type": "markdown",
   "metadata": {},
   "source": [
    "## Create DRL agent"
   ]
  },
  {
   "cell_type": "code",
   "execution_count": 5,
   "metadata": {},
   "outputs": [
    {
     "data": {
      "text/html": [
       "<pre style=\"white-space:pre;overflow-x:auto;line-height:normal;font-family:Menlo,'DejaVu Sans Mono',consolas,'Courier New',monospace\"><span style=\"font-weight: bold\">Model: \"sequential\"</span>\n",
       "</pre>\n"
      ],
      "text/plain": [
       "\u001b[1mModel: \"sequential\"\u001b[0m\n"
      ]
     },
     "metadata": {},
     "output_type": "display_data"
    },
    {
     "data": {
      "text/html": [
       "<pre style=\"white-space:pre;overflow-x:auto;line-height:normal;font-family:Menlo,'DejaVu Sans Mono',consolas,'Courier New',monospace\">┏━━━━━━━━━━━━━━━━━━━━━━━━━━━━━━━━━┳━━━━━━━━━━━━━━━━━━━━━━━━┳━━━━━━━━━━━━━━━┓\n",
       "┃<span style=\"font-weight: bold\"> Layer (type)                    </span>┃<span style=\"font-weight: bold\"> Output Shape           </span>┃<span style=\"font-weight: bold\">       Param # </span>┃\n",
       "┡━━━━━━━━━━━━━━━━━━━━━━━━━━━━━━━━━╇━━━━━━━━━━━━━━━━━━━━━━━━╇━━━━━━━━━━━━━━━┩\n",
       "│ Dense_0 (<span style=\"color: #0087ff; text-decoration-color: #0087ff\">Dense</span>)                 │ (<span style=\"color: #00d7ff; text-decoration-color: #00d7ff\">None</span>, <span style=\"color: #00af00; text-decoration-color: #00af00\">256</span>)            │         <span style=\"color: #00af00; text-decoration-color: #00af00\">4,096</span> │\n",
       "├─────────────────────────────────┼────────────────────────┼───────────────┤\n",
       "│ Dense_1 (<span style=\"color: #0087ff; text-decoration-color: #0087ff\">Dense</span>)                 │ (<span style=\"color: #00d7ff; text-decoration-color: #00d7ff\">None</span>, <span style=\"color: #00af00; text-decoration-color: #00af00\">256</span>)            │        <span style=\"color: #00af00; text-decoration-color: #00af00\">65,792</span> │\n",
       "├─────────────────────────────────┼────────────────────────┼───────────────┤\n",
       "│ dropout (<span style=\"color: #0087ff; text-decoration-color: #0087ff\">Dropout</span>)               │ (<span style=\"color: #00d7ff; text-decoration-color: #00d7ff\">None</span>, <span style=\"color: #00af00; text-decoration-color: #00af00\">256</span>)            │             <span style=\"color: #00af00; text-decoration-color: #00af00\">0</span> │\n",
       "├─────────────────────────────────┼────────────────────────┼───────────────┤\n",
       "│ Output (<span style=\"color: #0087ff; text-decoration-color: #0087ff\">Dense</span>)                  │ (<span style=\"color: #00d7ff; text-decoration-color: #00d7ff\">None</span>, <span style=\"color: #00af00; text-decoration-color: #00af00\">11</span>)             │         <span style=\"color: #00af00; text-decoration-color: #00af00\">2,827</span> │\n",
       "└─────────────────────────────────┴────────────────────────┴───────────────┘\n",
       "</pre>\n"
      ],
      "text/plain": [
       "┏━━━━━━━━━━━━━━━━━━━━━━━━━━━━━━━━━┳━━━━━━━━━━━━━━━━━━━━━━━━┳━━━━━━━━━━━━━━━┓\n",
       "┃\u001b[1m \u001b[0m\u001b[1mLayer (type)                   \u001b[0m\u001b[1m \u001b[0m┃\u001b[1m \u001b[0m\u001b[1mOutput Shape          \u001b[0m\u001b[1m \u001b[0m┃\u001b[1m \u001b[0m\u001b[1m      Param #\u001b[0m\u001b[1m \u001b[0m┃\n",
       "┡━━━━━━━━━━━━━━━━━━━━━━━━━━━━━━━━━╇━━━━━━━━━━━━━━━━━━━━━━━━╇━━━━━━━━━━━━━━━┩\n",
       "│ Dense_0 (\u001b[38;5;33mDense\u001b[0m)                 │ (\u001b[38;5;45mNone\u001b[0m, \u001b[38;5;34m256\u001b[0m)            │         \u001b[38;5;34m4,096\u001b[0m │\n",
       "├─────────────────────────────────┼────────────────────────┼───────────────┤\n",
       "│ Dense_1 (\u001b[38;5;33mDense\u001b[0m)                 │ (\u001b[38;5;45mNone\u001b[0m, \u001b[38;5;34m256\u001b[0m)            │        \u001b[38;5;34m65,792\u001b[0m │\n",
       "├─────────────────────────────────┼────────────────────────┼───────────────┤\n",
       "│ dropout (\u001b[38;5;33mDropout\u001b[0m)               │ (\u001b[38;5;45mNone\u001b[0m, \u001b[38;5;34m256\u001b[0m)            │             \u001b[38;5;34m0\u001b[0m │\n",
       "├─────────────────────────────────┼────────────────────────┼───────────────┤\n",
       "│ Output (\u001b[38;5;33mDense\u001b[0m)                  │ (\u001b[38;5;45mNone\u001b[0m, \u001b[38;5;34m11\u001b[0m)             │         \u001b[38;5;34m2,827\u001b[0m │\n",
       "└─────────────────────────────────┴────────────────────────┴───────────────┘\n"
      ]
     },
     "metadata": {},
     "output_type": "display_data"
    },
    {
     "data": {
      "text/html": [
       "<pre style=\"white-space:pre;overflow-x:auto;line-height:normal;font-family:Menlo,'DejaVu Sans Mono',consolas,'Courier New',monospace\"><span style=\"font-weight: bold\"> Total params: </span><span style=\"color: #00af00; text-decoration-color: #00af00\">72,715</span> (284.04 KB)\n",
       "</pre>\n"
      ],
      "text/plain": [
       "\u001b[1m Total params: \u001b[0m\u001b[38;5;34m72,715\u001b[0m (284.04 KB)\n"
      ]
     },
     "metadata": {},
     "output_type": "display_data"
    },
    {
     "data": {
      "text/html": [
       "<pre style=\"white-space:pre;overflow-x:auto;line-height:normal;font-family:Menlo,'DejaVu Sans Mono',consolas,'Courier New',monospace\"><span style=\"font-weight: bold\"> Trainable params: </span><span style=\"color: #00af00; text-decoration-color: #00af00\">72,715</span> (284.04 KB)\n",
       "</pre>\n"
      ],
      "text/plain": [
       "\u001b[1m Trainable params: \u001b[0m\u001b[38;5;34m72,715\u001b[0m (284.04 KB)\n"
      ]
     },
     "metadata": {},
     "output_type": "display_data"
    },
    {
     "data": {
      "text/html": [
       "<pre style=\"white-space:pre;overflow-x:auto;line-height:normal;font-family:Menlo,'DejaVu Sans Mono',consolas,'Courier New',monospace\"><span style=\"font-weight: bold\"> Non-trainable params: </span><span style=\"color: #00af00; text-decoration-color: #00af00\">0</span> (0.00 B)\n",
       "</pre>\n"
      ],
      "text/plain": [
       "\u001b[1m Non-trainable params: \u001b[0m\u001b[38;5;34m0\u001b[0m (0.00 B)\n"
      ]
     },
     "metadata": {},
     "output_type": "display_data"
    },
    {
     "data": {
      "text/html": [
       "<pre style=\"white-space:pre;overflow-x:auto;line-height:normal;font-family:Menlo,'DejaVu Sans Mono',consolas,'Courier New',monospace\"><span style=\"font-weight: bold\">Model: \"sequential_1\"</span>\n",
       "</pre>\n"
      ],
      "text/plain": [
       "\u001b[1mModel: \"sequential_1\"\u001b[0m\n"
      ]
     },
     "metadata": {},
     "output_type": "display_data"
    },
    {
     "data": {
      "text/html": [
       "<pre style=\"white-space:pre;overflow-x:auto;line-height:normal;font-family:Menlo,'DejaVu Sans Mono',consolas,'Courier New',monospace\">┏━━━━━━━━━━━━━━━━━━━━━━━━━━━━━━━━━┳━━━━━━━━━━━━━━━━━━━━━━━━┳━━━━━━━━━━━━━━━┓\n",
       "┃<span style=\"font-weight: bold\"> Layer (type)                    </span>┃<span style=\"font-weight: bold\"> Output Shape           </span>┃<span style=\"font-weight: bold\">       Param # </span>┃\n",
       "┡━━━━━━━━━━━━━━━━━━━━━━━━━━━━━━━━━╇━━━━━━━━━━━━━━━━━━━━━━━━╇━━━━━━━━━━━━━━━┩\n",
       "│ Dense_0 (<span style=\"color: #0087ff; text-decoration-color: #0087ff\">Dense</span>)                 │ (<span style=\"color: #00d7ff; text-decoration-color: #00d7ff\">None</span>, <span style=\"color: #00af00; text-decoration-color: #00af00\">256</span>)            │         <span style=\"color: #00af00; text-decoration-color: #00af00\">4,096</span> │\n",
       "├─────────────────────────────────┼────────────────────────┼───────────────┤\n",
       "│ Dense_1 (<span style=\"color: #0087ff; text-decoration-color: #0087ff\">Dense</span>)                 │ (<span style=\"color: #00d7ff; text-decoration-color: #00d7ff\">None</span>, <span style=\"color: #00af00; text-decoration-color: #00af00\">256</span>)            │        <span style=\"color: #00af00; text-decoration-color: #00af00\">65,792</span> │\n",
       "├─────────────────────────────────┼────────────────────────┼───────────────┤\n",
       "│ dropout_1 (<span style=\"color: #0087ff; text-decoration-color: #0087ff\">Dropout</span>)             │ (<span style=\"color: #00d7ff; text-decoration-color: #00d7ff\">None</span>, <span style=\"color: #00af00; text-decoration-color: #00af00\">256</span>)            │             <span style=\"color: #00af00; text-decoration-color: #00af00\">0</span> │\n",
       "├─────────────────────────────────┼────────────────────────┼───────────────┤\n",
       "│ Output (<span style=\"color: #0087ff; text-decoration-color: #0087ff\">Dense</span>)                  │ (<span style=\"color: #00d7ff; text-decoration-color: #00d7ff\">None</span>, <span style=\"color: #00af00; text-decoration-color: #00af00\">11</span>)             │         <span style=\"color: #00af00; text-decoration-color: #00af00\">2,827</span> │\n",
       "└─────────────────────────────────┴────────────────────────┴───────────────┘\n",
       "</pre>\n"
      ],
      "text/plain": [
       "┏━━━━━━━━━━━━━━━━━━━━━━━━━━━━━━━━━┳━━━━━━━━━━━━━━━━━━━━━━━━┳━━━━━━━━━━━━━━━┓\n",
       "┃\u001b[1m \u001b[0m\u001b[1mLayer (type)                   \u001b[0m\u001b[1m \u001b[0m┃\u001b[1m \u001b[0m\u001b[1mOutput Shape          \u001b[0m\u001b[1m \u001b[0m┃\u001b[1m \u001b[0m\u001b[1m      Param #\u001b[0m\u001b[1m \u001b[0m┃\n",
       "┡━━━━━━━━━━━━━━━━━━━━━━━━━━━━━━━━━╇━━━━━━━━━━━━━━━━━━━━━━━━╇━━━━━━━━━━━━━━━┩\n",
       "│ Dense_0 (\u001b[38;5;33mDense\u001b[0m)                 │ (\u001b[38;5;45mNone\u001b[0m, \u001b[38;5;34m256\u001b[0m)            │         \u001b[38;5;34m4,096\u001b[0m │\n",
       "├─────────────────────────────────┼────────────────────────┼───────────────┤\n",
       "│ Dense_1 (\u001b[38;5;33mDense\u001b[0m)                 │ (\u001b[38;5;45mNone\u001b[0m, \u001b[38;5;34m256\u001b[0m)            │        \u001b[38;5;34m65,792\u001b[0m │\n",
       "├─────────────────────────────────┼────────────────────────┼───────────────┤\n",
       "│ dropout_1 (\u001b[38;5;33mDropout\u001b[0m)             │ (\u001b[38;5;45mNone\u001b[0m, \u001b[38;5;34m256\u001b[0m)            │             \u001b[38;5;34m0\u001b[0m │\n",
       "├─────────────────────────────────┼────────────────────────┼───────────────┤\n",
       "│ Output (\u001b[38;5;33mDense\u001b[0m)                  │ (\u001b[38;5;45mNone\u001b[0m, \u001b[38;5;34m11\u001b[0m)             │         \u001b[38;5;34m2,827\u001b[0m │\n",
       "└─────────────────────────────────┴────────────────────────┴───────────────┘\n"
      ]
     },
     "metadata": {},
     "output_type": "display_data"
    },
    {
     "data": {
      "text/html": [
       "<pre style=\"white-space:pre;overflow-x:auto;line-height:normal;font-family:Menlo,'DejaVu Sans Mono',consolas,'Courier New',monospace\"><span style=\"font-weight: bold\"> Total params: </span><span style=\"color: #00af00; text-decoration-color: #00af00\">72,715</span> (284.04 KB)\n",
       "</pre>\n"
      ],
      "text/plain": [
       "\u001b[1m Total params: \u001b[0m\u001b[38;5;34m72,715\u001b[0m (284.04 KB)\n"
      ]
     },
     "metadata": {},
     "output_type": "display_data"
    },
    {
     "data": {
      "text/html": [
       "<pre style=\"white-space:pre;overflow-x:auto;line-height:normal;font-family:Menlo,'DejaVu Sans Mono',consolas,'Courier New',monospace\"><span style=\"font-weight: bold\"> Trainable params: </span><span style=\"color: #00af00; text-decoration-color: #00af00\">0</span> (0.00 B)\n",
       "</pre>\n"
      ],
      "text/plain": [
       "\u001b[1m Trainable params: \u001b[0m\u001b[38;5;34m0\u001b[0m (0.00 B)\n"
      ]
     },
     "metadata": {},
     "output_type": "display_data"
    },
    {
     "data": {
      "text/html": [
       "<pre style=\"white-space:pre;overflow-x:auto;line-height:normal;font-family:Menlo,'DejaVu Sans Mono',consolas,'Courier New',monospace\"><span style=\"font-weight: bold\"> Non-trainable params: </span><span style=\"color: #00af00; text-decoration-color: #00af00\">72,715</span> (284.04 KB)\n",
       "</pre>\n"
      ],
      "text/plain": [
       "\u001b[1m Non-trainable params: \u001b[0m\u001b[38;5;34m72,715\u001b[0m (284.04 KB)\n"
      ]
     },
     "metadata": {},
     "output_type": "display_data"
    }
   ],
   "source": [
    "agent = DRLAgent()"
   ]
  },
  {
   "cell_type": "markdown",
   "metadata": {},
   "source": [
    "## Train the model and save weights"
   ]
  },
  {
   "cell_type": "code",
   "execution_count": 6,
   "metadata": {},
   "outputs": [
    {
     "name": "stdout",
     "output_type": "stream",
     "text": [
      "Episode: 1    | Diff (MA100): 0.02% | Losses (MA100): 0.000000 | Epsilon: 1.00 | Market beats: 15.48% | Actions (MA100): 4.90 | Buys: 75        | Sells: 75       | Progress: 0.10% | Est. time left: 117.43 sec     | ETA: 2024-09-12 14:20:59      \n",
      "Episode: 100  | Diff (MA100): -0.04% | Losses (MA100): 0.036068 | Epsilon: 0.67 | Market beats: 13.49% | Actions (MA100): 5.22 | Buys: 69        | Sells: 69       | Progress: 10.00% | Est. time left: 11525.68 sec   | ETA: 2024-09-12 17:52:28      \n",
      "Episode: 200  | Diff (MA100): -0.04% | Losses (MA100): 0.036086 | Epsilon: 0.28 | Market beats: 13.10% | Actions (MA100): 6.14 | Buys: 59        | Sells: 59       | Progress: 20.00% | Est. time left: 11598.70 sec   | ETA: 2024-09-12 18:20:40      \n",
      "Episode: 300  | Diff (MA100): -0.01% | Losses (MA100): 0.035448 | Epsilon: 0.01 | Market beats: 12.30% | Actions (MA100): 7.15 | Buys: 63        | Sells: 63       | Progress: 30.00% | Est. time left: 11017.81 sec   | ETA: 2024-09-12 18:41:21      \n",
      "Episode: 400  | Diff (MA100): -0.01% | Losses (MA100): 0.034309 | Epsilon: 0.00 | Market beats: 23.41% | Actions (MA100): 7.50 | Buys: 99        | Sells: 99       | Progress: 40.00% | Est. time left: 10010.51 sec   | ETA: 2024-09-12 18:57:06      \n",
      "Episode: 500  | Diff (MA100): -0.01% | Losses (MA100): 0.032734 | Epsilon: 0.00 | Market beats: 5.16% | Actions (MA100): 7.68 | Buys: 31        | Sells: 31       | Progress: 50.00% | Est. time left: 8517.29 sec    | ETA: 2024-09-12 19:02:56      \n",
      "Episode: 600  | Diff (MA100): -0.00% | Losses (MA100): 0.032168 | Epsilon: 0.00 | Market beats: 23.02% | Actions (MA100): 7.59 | Buys: 93        | Sells: 93       | Progress: 60.00% | Est. time left: 6949.45 sec    | ETA: 2024-09-12 19:08:35      \n",
      "Episode: 700  | Diff (MA100): -0.02% | Losses (MA100): 0.031466 | Epsilon: 0.00 | Market beats: 8.73% | Actions (MA100): 7.78 | Buys: 43        | Sells: 43       | Progress: 70.00% | Est. time left: 5379.64 sec    | ETA: 2024-09-12 19:17:53      \n",
      "Episode: 800  | Diff (MA100): 0.01% | Losses (MA100): 0.030561 | Epsilon: 0.00 | Market beats: 17.46% | Actions (MA100): 7.70 | Buys: 88        | Sells: 88       | Progress: 80.00% | Est. time left: 3680.06 sec    | ETA: 2024-09-12 19:25:42      \n",
      "Episode: 900  | Diff (MA100): -0.01% | Losses (MA100): 0.030464 | Epsilon: 0.00 | Market beats: 19.44% | Actions (MA100): 7.55 | Buys: 81        | Sells: 81       | Progress: 90.00% | Est. time left: 1886.74 sec    | ETA: 2024-09-12 19:33:29      \n",
      "Episode: 1000 | Diff (MA100): 0.00% | Losses (MA100): 0.031042 | Epsilon: 0.00 | Market beats: 5.56% | Actions (MA100): 7.70 | Buys: 34        | Sells: 34       | Progress: 100.00% | Est. time left: 0.00 sec       | ETA: 2024-09-12 19:39:24      \n"
     ]
    }
   ],
   "source": [
    "np.random.seed(config['seed'])\n",
    "max_episodes = config['max_episodes']\n",
    "trading_days = config['trading_days']\n",
    "tickers_len = len(tickers)\n",
    "results_fname = Path('results/training_results.csv')\n",
    "Path('results').mkdir(exist_ok=True)\n",
    "start = datetime.now()\n",
    "yf_filename = os.path.abspath('data/ohlcv/{}.csv') # Template for filename for a ticker symbol\n",
    "\n",
    "# Store data for the last 100 episodes to track performance\n",
    "run_diffs_100 = []\n",
    "run_actions_100 = []\n",
    "run_losses_100 = []\n",
    "\n",
    "for episode in range(1, max_episodes + 1):\n",
    "    ticker = tickers[np.random.randint(0,len(tickers))] # Select a random ticker from the filtered list\n",
    "    cerebro = bt.Cerebro()\n",
    "    cerebro.addstrategy(\n",
    "        DRLStrategy,\n",
    "        agent=agent,\n",
    "    )\n",
    "\n",
    "    feed, first_close = create_tr_bt_feed(ticker, filename=yf_filename)\n",
    "    cerebro.adddata(feed)\n",
    "\n",
    "    # Prevent the rejection of orders, which could cause instability in the DNN learning process.\n",
    "    cerebro.broker.setcash(10000)\n",
    "    # Sizing does not influence the rewards, and thus the learning process.\n",
    "    cerebro.addsizer(PercentSizer, percents=10.0)\n",
    "\n",
    "    cerebro.broker.setcommission(commission=.0)\n",
    "    cerebro.broker.set_slippage_perc(config['slippage_pct']/100)\n",
    "    cerebro.broker.set_shortcash(False) # Do not allow for short trades\n",
    "\n",
    "    thestrat = cerebro.run()[0]\n",
    "\n",
    "\n",
    "    run_diffs_100 = run_diffs_100 + thestrat.diffs\n",
    "    run_actions_100 = run_actions_100 + thestrat.actions\n",
    "    run_losses_100 = run_losses_100 + agent.losses\n",
    "    run_diffs = pd.Series(thestrat.diffs)\n",
    "    run_market_returns = pd.Series(thestrat.market_returns)\n",
    "    run_strategy_returns = pd.Series(thestrat.strategy_returns)\n",
    "    run_actions = pd.Series(thestrat.actions)\n",
    "    run_losses = pd.Series(agent.losses)\n",
    "\n",
    "    pd.DataFrame({\n",
    "        'diffs': run_diffs,\n",
    "        'market_returns': run_market_returns,\n",
    "        'strategy_returns': run_strategy_returns,\n",
    "        'actions': run_actions,\n",
    "        'losses': pd.Series([run_losses.mean()] * run_actions.count())\n",
    "    }).to_csv(results_fname, mode='a' if results_fname.exists() else 'x', header=not results_fname.exists())\n",
    "\n",
    "    # Print status of the training each 100-th episode to track progress\n",
    "    if episode % 100 == 0 or episode == 1 or episode == max_episodes+1:\n",
    "        progress_info(\n",
    "            episode, max_episodes, start, \n",
    "            mean(run_diffs_100) if run_diffs_100 else 0.0, \n",
    "            mean(map(float, run_actions_100)) if run_actions_100 else 0.0 if run_actions_100 else 0.0, \n",
    "            mean(run_losses_100) if run_losses_100 else 0.0, \n",
    "            agent.epsilon, episode, run_diffs[run_diffs > 0].count()/run_diffs.count()*100,\n",
    "            thestrat.buy_count, thestrat.sell_count)\n",
    "        run_diffs_100 = []\n",
    "        run_actions_100 = []\n",
    "        run_losses_100 = []\n",
    "    \n",
    "    # Lower epsilon if replay buffer is at least of size, that allows for experience replay.\n",
    "    if episode * config['trading_days'] >= config['batch_size']:\n",
    "        agent.epsilon_decay_step()\n",
    "\n",
    "    # Save weights in theevery episode. In the case of faster convergance, the training can be stopped, and the weights can be restored.\n",
    "    agent.online_network.save_weights(os.path.abspath('results/model.weights.h5'))\n",
    "    \n"
   ]
  }
 ],
 "metadata": {
  "kernelspec": {
   "display_name": "master-thesis",
   "language": "python",
   "name": "python3"
  },
  "language_info": {
   "codemirror_mode": {
    "name": "ipython",
    "version": 3
   },
   "file_extension": ".py",
   "mimetype": "text/x-python",
   "name": "python",
   "nbconvert_exporter": "python",
   "pygments_lexer": "ipython3",
   "version": "3.12.3"
  }
 },
 "nbformat": 4,
 "nbformat_minor": 2
}
