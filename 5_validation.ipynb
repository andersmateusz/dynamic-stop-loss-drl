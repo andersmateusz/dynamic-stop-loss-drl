{
 "cells": [
  {
   "cell_type": "code",
   "execution_count": 6,
   "metadata": {},
   "outputs": [],
   "source": [
    "from config import config\n",
    "from utils import create_ev_bt_feed\n",
    "from strategies import BuyAndHold, TrailingStop, FixedStop, DRLStrategy\n",
    "from drl_agent import DRLAgent\n",
    "import pandas as pd\n",
    "import backtrader as bt\n",
    "from backtrader.sizers import PercentSizer\n",
    "import backtrader.analyzers as btanalyzers\n",
    "from tensorflow.keras.utils import model_to_dot\n",
    "import os"
   ]
  },
  {
   "cell_type": "markdown",
   "metadata": {},
   "source": [
    "## Create reinforcement learning agent and read learnt weights"
   ]
  },
  {
   "cell_type": "code",
   "execution_count": 7,
   "metadata": {},
   "outputs": [
    {
     "data": {
      "text/html": [
       "<pre style=\"white-space:pre;overflow-x:auto;line-height:normal;font-family:Menlo,'DejaVu Sans Mono',consolas,'Courier New',monospace\"><span style=\"font-weight: bold\">Model: \"sequential_2\"</span>\n",
       "</pre>\n"
      ],
      "text/plain": [
       "\u001b[1mModel: \"sequential_2\"\u001b[0m\n"
      ]
     },
     "metadata": {},
     "output_type": "display_data"
    },
    {
     "data": {
      "text/html": [
       "<pre style=\"white-space:pre;overflow-x:auto;line-height:normal;font-family:Menlo,'DejaVu Sans Mono',consolas,'Courier New',monospace\">┏━━━━━━━━━━━━━━━━━━━━━━━━━━━━━━━━━┳━━━━━━━━━━━━━━━━━━━━━━━━┳━━━━━━━━━━━━━━━┓\n",
       "┃<span style=\"font-weight: bold\"> Layer (type)                    </span>┃<span style=\"font-weight: bold\"> Output Shape           </span>┃<span style=\"font-weight: bold\">       Param # </span>┃\n",
       "┡━━━━━━━━━━━━━━━━━━━━━━━━━━━━━━━━━╇━━━━━━━━━━━━━━━━━━━━━━━━╇━━━━━━━━━━━━━━━┩\n",
       "│ Dense_0 (<span style=\"color: #0087ff; text-decoration-color: #0087ff\">Dense</span>)                 │ (<span style=\"color: #00d7ff; text-decoration-color: #00d7ff\">None</span>, <span style=\"color: #00af00; text-decoration-color: #00af00\">256</span>)            │         <span style=\"color: #00af00; text-decoration-color: #00af00\">4,096</span> │\n",
       "├─────────────────────────────────┼────────────────────────┼───────────────┤\n",
       "│ Dense_1 (<span style=\"color: #0087ff; text-decoration-color: #0087ff\">Dense</span>)                 │ (<span style=\"color: #00d7ff; text-decoration-color: #00d7ff\">None</span>, <span style=\"color: #00af00; text-decoration-color: #00af00\">256</span>)            │        <span style=\"color: #00af00; text-decoration-color: #00af00\">65,792</span> │\n",
       "├─────────────────────────────────┼────────────────────────┼───────────────┤\n",
       "│ dropout_2 (<span style=\"color: #0087ff; text-decoration-color: #0087ff\">Dropout</span>)             │ (<span style=\"color: #00d7ff; text-decoration-color: #00d7ff\">None</span>, <span style=\"color: #00af00; text-decoration-color: #00af00\">256</span>)            │             <span style=\"color: #00af00; text-decoration-color: #00af00\">0</span> │\n",
       "├─────────────────────────────────┼────────────────────────┼───────────────┤\n",
       "│ Output (<span style=\"color: #0087ff; text-decoration-color: #0087ff\">Dense</span>)                  │ (<span style=\"color: #00d7ff; text-decoration-color: #00d7ff\">None</span>, <span style=\"color: #00af00; text-decoration-color: #00af00\">11</span>)             │         <span style=\"color: #00af00; text-decoration-color: #00af00\">2,827</span> │\n",
       "└─────────────────────────────────┴────────────────────────┴───────────────┘\n",
       "</pre>\n"
      ],
      "text/plain": [
       "┏━━━━━━━━━━━━━━━━━━━━━━━━━━━━━━━━━┳━━━━━━━━━━━━━━━━━━━━━━━━┳━━━━━━━━━━━━━━━┓\n",
       "┃\u001b[1m \u001b[0m\u001b[1mLayer (type)                   \u001b[0m\u001b[1m \u001b[0m┃\u001b[1m \u001b[0m\u001b[1mOutput Shape          \u001b[0m\u001b[1m \u001b[0m┃\u001b[1m \u001b[0m\u001b[1m      Param #\u001b[0m\u001b[1m \u001b[0m┃\n",
       "┡━━━━━━━━━━━━━━━━━━━━━━━━━━━━━━━━━╇━━━━━━━━━━━━━━━━━━━━━━━━╇━━━━━━━━━━━━━━━┩\n",
       "│ Dense_0 (\u001b[38;5;33mDense\u001b[0m)                 │ (\u001b[38;5;45mNone\u001b[0m, \u001b[38;5;34m256\u001b[0m)            │         \u001b[38;5;34m4,096\u001b[0m │\n",
       "├─────────────────────────────────┼────────────────────────┼───────────────┤\n",
       "│ Dense_1 (\u001b[38;5;33mDense\u001b[0m)                 │ (\u001b[38;5;45mNone\u001b[0m, \u001b[38;5;34m256\u001b[0m)            │        \u001b[38;5;34m65,792\u001b[0m │\n",
       "├─────────────────────────────────┼────────────────────────┼───────────────┤\n",
       "│ dropout_2 (\u001b[38;5;33mDropout\u001b[0m)             │ (\u001b[38;5;45mNone\u001b[0m, \u001b[38;5;34m256\u001b[0m)            │             \u001b[38;5;34m0\u001b[0m │\n",
       "├─────────────────────────────────┼────────────────────────┼───────────────┤\n",
       "│ Output (\u001b[38;5;33mDense\u001b[0m)                  │ (\u001b[38;5;45mNone\u001b[0m, \u001b[38;5;34m11\u001b[0m)             │         \u001b[38;5;34m2,827\u001b[0m │\n",
       "└─────────────────────────────────┴────────────────────────┴───────────────┘\n"
      ]
     },
     "metadata": {},
     "output_type": "display_data"
    },
    {
     "data": {
      "text/html": [
       "<pre style=\"white-space:pre;overflow-x:auto;line-height:normal;font-family:Menlo,'DejaVu Sans Mono',consolas,'Courier New',monospace\"><span style=\"font-weight: bold\"> Total params: </span><span style=\"color: #00af00; text-decoration-color: #00af00\">72,715</span> (284.04 KB)\n",
       "</pre>\n"
      ],
      "text/plain": [
       "\u001b[1m Total params: \u001b[0m\u001b[38;5;34m72,715\u001b[0m (284.04 KB)\n"
      ]
     },
     "metadata": {},
     "output_type": "display_data"
    },
    {
     "data": {
      "text/html": [
       "<pre style=\"white-space:pre;overflow-x:auto;line-height:normal;font-family:Menlo,'DejaVu Sans Mono',consolas,'Courier New',monospace\"><span style=\"font-weight: bold\"> Trainable params: </span><span style=\"color: #00af00; text-decoration-color: #00af00\">0</span> (0.00 B)\n",
       "</pre>\n"
      ],
      "text/plain": [
       "\u001b[1m Trainable params: \u001b[0m\u001b[38;5;34m0\u001b[0m (0.00 B)\n"
      ]
     },
     "metadata": {},
     "output_type": "display_data"
    },
    {
     "data": {
      "text/html": [
       "<pre style=\"white-space:pre;overflow-x:auto;line-height:normal;font-family:Menlo,'DejaVu Sans Mono',consolas,'Courier New',monospace\"><span style=\"font-weight: bold\"> Non-trainable params: </span><span style=\"color: #00af00; text-decoration-color: #00af00\">72,715</span> (284.04 KB)\n",
       "</pre>\n"
      ],
      "text/plain": [
       "\u001b[1m Non-trainable params: \u001b[0m\u001b[38;5;34m72,715\u001b[0m (284.04 KB)\n"
      ]
     },
     "metadata": {},
     "output_type": "display_data"
    },
    {
     "data": {
      "text/html": [
       "<pre style=\"white-space:pre;overflow-x:auto;line-height:normal;font-family:Menlo,'DejaVu Sans Mono',consolas,'Courier New',monospace\"><span style=\"font-weight: bold\">Model: \"sequential_3\"</span>\n",
       "</pre>\n"
      ],
      "text/plain": [
       "\u001b[1mModel: \"sequential_3\"\u001b[0m\n"
      ]
     },
     "metadata": {},
     "output_type": "display_data"
    },
    {
     "data": {
      "text/html": [
       "<pre style=\"white-space:pre;overflow-x:auto;line-height:normal;font-family:Menlo,'DejaVu Sans Mono',consolas,'Courier New',monospace\">┏━━━━━━━━━━━━━━━━━━━━━━━━━━━━━━━━━┳━━━━━━━━━━━━━━━━━━━━━━━━┳━━━━━━━━━━━━━━━┓\n",
       "┃<span style=\"font-weight: bold\"> Layer (type)                    </span>┃<span style=\"font-weight: bold\"> Output Shape           </span>┃<span style=\"font-weight: bold\">       Param # </span>┃\n",
       "┡━━━━━━━━━━━━━━━━━━━━━━━━━━━━━━━━━╇━━━━━━━━━━━━━━━━━━━━━━━━╇━━━━━━━━━━━━━━━┩\n",
       "│ Dense_0 (<span style=\"color: #0087ff; text-decoration-color: #0087ff\">Dense</span>)                 │ (<span style=\"color: #00d7ff; text-decoration-color: #00d7ff\">None</span>, <span style=\"color: #00af00; text-decoration-color: #00af00\">256</span>)            │         <span style=\"color: #00af00; text-decoration-color: #00af00\">4,096</span> │\n",
       "├─────────────────────────────────┼────────────────────────┼───────────────┤\n",
       "│ Dense_1 (<span style=\"color: #0087ff; text-decoration-color: #0087ff\">Dense</span>)                 │ (<span style=\"color: #00d7ff; text-decoration-color: #00d7ff\">None</span>, <span style=\"color: #00af00; text-decoration-color: #00af00\">256</span>)            │        <span style=\"color: #00af00; text-decoration-color: #00af00\">65,792</span> │\n",
       "├─────────────────────────────────┼────────────────────────┼───────────────┤\n",
       "│ dropout_3 (<span style=\"color: #0087ff; text-decoration-color: #0087ff\">Dropout</span>)             │ (<span style=\"color: #00d7ff; text-decoration-color: #00d7ff\">None</span>, <span style=\"color: #00af00; text-decoration-color: #00af00\">256</span>)            │             <span style=\"color: #00af00; text-decoration-color: #00af00\">0</span> │\n",
       "├─────────────────────────────────┼────────────────────────┼───────────────┤\n",
       "│ Output (<span style=\"color: #0087ff; text-decoration-color: #0087ff\">Dense</span>)                  │ (<span style=\"color: #00d7ff; text-decoration-color: #00d7ff\">None</span>, <span style=\"color: #00af00; text-decoration-color: #00af00\">11</span>)             │         <span style=\"color: #00af00; text-decoration-color: #00af00\">2,827</span> │\n",
       "└─────────────────────────────────┴────────────────────────┴───────────────┘\n",
       "</pre>\n"
      ],
      "text/plain": [
       "┏━━━━━━━━━━━━━━━━━━━━━━━━━━━━━━━━━┳━━━━━━━━━━━━━━━━━━━━━━━━┳━━━━━━━━━━━━━━━┓\n",
       "┃\u001b[1m \u001b[0m\u001b[1mLayer (type)                   \u001b[0m\u001b[1m \u001b[0m┃\u001b[1m \u001b[0m\u001b[1mOutput Shape          \u001b[0m\u001b[1m \u001b[0m┃\u001b[1m \u001b[0m\u001b[1m      Param #\u001b[0m\u001b[1m \u001b[0m┃\n",
       "┡━━━━━━━━━━━━━━━━━━━━━━━━━━━━━━━━━╇━━━━━━━━━━━━━━━━━━━━━━━━╇━━━━━━━━━━━━━━━┩\n",
       "│ Dense_0 (\u001b[38;5;33mDense\u001b[0m)                 │ (\u001b[38;5;45mNone\u001b[0m, \u001b[38;5;34m256\u001b[0m)            │         \u001b[38;5;34m4,096\u001b[0m │\n",
       "├─────────────────────────────────┼────────────────────────┼───────────────┤\n",
       "│ Dense_1 (\u001b[38;5;33mDense\u001b[0m)                 │ (\u001b[38;5;45mNone\u001b[0m, \u001b[38;5;34m256\u001b[0m)            │        \u001b[38;5;34m65,792\u001b[0m │\n",
       "├─────────────────────────────────┼────────────────────────┼───────────────┤\n",
       "│ dropout_3 (\u001b[38;5;33mDropout\u001b[0m)             │ (\u001b[38;5;45mNone\u001b[0m, \u001b[38;5;34m256\u001b[0m)            │             \u001b[38;5;34m0\u001b[0m │\n",
       "├─────────────────────────────────┼────────────────────────┼───────────────┤\n",
       "│ Output (\u001b[38;5;33mDense\u001b[0m)                  │ (\u001b[38;5;45mNone\u001b[0m, \u001b[38;5;34m11\u001b[0m)             │         \u001b[38;5;34m2,827\u001b[0m │\n",
       "└─────────────────────────────────┴────────────────────────┴───────────────┘\n"
      ]
     },
     "metadata": {},
     "output_type": "display_data"
    },
    {
     "data": {
      "text/html": [
       "<pre style=\"white-space:pre;overflow-x:auto;line-height:normal;font-family:Menlo,'DejaVu Sans Mono',consolas,'Courier New',monospace\"><span style=\"font-weight: bold\"> Total params: </span><span style=\"color: #00af00; text-decoration-color: #00af00\">72,715</span> (284.04 KB)\n",
       "</pre>\n"
      ],
      "text/plain": [
       "\u001b[1m Total params: \u001b[0m\u001b[38;5;34m72,715\u001b[0m (284.04 KB)\n"
      ]
     },
     "metadata": {},
     "output_type": "display_data"
    },
    {
     "data": {
      "text/html": [
       "<pre style=\"white-space:pre;overflow-x:auto;line-height:normal;font-family:Menlo,'DejaVu Sans Mono',consolas,'Courier New',monospace\"><span style=\"font-weight: bold\"> Trainable params: </span><span style=\"color: #00af00; text-decoration-color: #00af00\">0</span> (0.00 B)\n",
       "</pre>\n"
      ],
      "text/plain": [
       "\u001b[1m Trainable params: \u001b[0m\u001b[38;5;34m0\u001b[0m (0.00 B)\n"
      ]
     },
     "metadata": {},
     "output_type": "display_data"
    },
    {
     "data": {
      "text/html": [
       "<pre style=\"white-space:pre;overflow-x:auto;line-height:normal;font-family:Menlo,'DejaVu Sans Mono',consolas,'Courier New',monospace\"><span style=\"font-weight: bold\"> Non-trainable params: </span><span style=\"color: #00af00; text-decoration-color: #00af00\">72,715</span> (284.04 KB)\n",
       "</pre>\n"
      ],
      "text/plain": [
       "\u001b[1m Non-trainable params: \u001b[0m\u001b[38;5;34m72,715\u001b[0m (284.04 KB)\n"
      ]
     },
     "metadata": {},
     "output_type": "display_data"
    },
    {
     "name": "stderr",
     "output_type": "stream",
     "text": [
      "/opt/miniconda3/envs/master-thesis/lib/python3.12/site-packages/keras/src/saving/saving_lib.py:415: UserWarning: Skipping variable loading for optimizer 'adam', because it has 2 variables whereas the saved optimizer has 14 variables. \n",
      "  saveable.load_own_variables(weights_store.get(inner_path))\n"
     ]
    },
    {
     "data": {
      "text/plain": [
       "True"
      ]
     },
     "execution_count": 7,
     "metadata": {},
     "output_type": "execute_result"
    }
   ],
   "source": [
    "agent = DRLAgent(train=False)\n",
    "agent.online_network.load_weights('results/model.weights.h5')\n",
    "agent.update_target()\n",
    "model_to_dot(agent.online_network, show_shapes=True, show_layer_names=True).write('charts/model_plot.dot')"
   ]
  },
  {
   "cell_type": "markdown",
   "metadata": {},
   "source": [
    "## Load tickers"
   ]
  },
  {
   "cell_type": "code",
   "execution_count": 3,
   "metadata": {},
   "outputs": [],
   "source": [
    "tickers = pd.read_csv('data/nasdaq_index_list_filtered.csv')['0'].to_list()"
   ]
  },
  {
   "cell_type": "markdown",
   "metadata": {},
   "source": [
    "## Define benchmark strategies"
   ]
  },
  {
   "cell_type": "code",
   "execution_count": 4,
   "metadata": {},
   "outputs": [],
   "source": [
    "strategies = {\n",
    "    'DRL': [DRLStrategy, {'agent': agent, 'train': False}],\n",
    "    'B&H': [BuyAndHold, {}]\n",
    "}\n",
    "\n",
    "for pct in config['stop_pct']:\n",
    "    strategies[f'FixedSL_{pct:.2f}'] = [FixedStop, {'stop_pct': pct}]\n",
    "    strategies[f'TrailingSL_{pct:.2f}'] = [TrailingStop, {'stop_pct': pct}]"
   ]
  },
  {
   "cell_type": "markdown",
   "metadata": {},
   "source": [
    "## Backtrade to validate the strategy"
   ]
  },
  {
   "cell_type": "code",
   "execution_count": 5,
   "metadata": {},
   "outputs": [
    {
     "name": "stdout",
     "output_type": "stream",
     "text": [
      "Ticker: CPRT  | Progress: 1.04%\n",
      "Ticker: COST  | Progress: 2.08%\n",
      "Ticker: AAPL  | Progress: 3.12%\n",
      "Ticker: AMGN  | Progress: 4.17%\n",
      "Ticker: CMCSA | Progress: 5.21%\n",
      "Ticker: INTC  | Progress: 6.25%\n",
      "Ticker: KLAC  | Progress: 7.29%\n",
      "Ticker: PCAR  | Progress: 8.33%\n",
      "Ticker: CTAS  | Progress: 9.38%\n",
      "Ticker: PAYX  | Progress: 10.42%\n",
      "Ticker: LRCX  | Progress: 11.46%\n",
      "Ticker: ADSK  | Progress: 12.50%\n",
      "Ticker: ROST  | Progress: 13.54%\n",
      "Ticker: MNST  | Progress: 14.58%\n",
      "Ticker: MSFT  | Progress: 15.62%\n",
      "Ticker: ADBE  | Progress: 16.67%\n",
      "Ticker: FAST  | Progress: 17.71%\n",
      "Ticker: EA    | Progress: 18.75%\n",
      "Ticker: CSCO  | Progress: 19.79%\n",
      "Ticker: REGN  | Progress: 20.83%\n",
      "Ticker: IDXX  | Progress: 21.88%\n",
      "Ticker: VRTX  | Progress: 22.92%\n",
      "Ticker: BIIB  | Progress: 23.96%\n",
      "Ticker: ODFL  | Progress: 25.00%\n",
      "Ticker: QCOM  | Progress: 26.04%\n",
      "Ticker: GILD  | Progress: 27.08%\n",
      "Ticker: SNPS  | Progress: 28.12%\n",
      "Ticker: SBUX  | Progress: 29.17%\n",
      "Ticker: SIRI  | Progress: 30.21%\n",
      "Ticker: INTU  | Progress: 31.25%\n",
      "Ticker: MCHP  | Progress: 32.29%\n",
      "Ticker: ORLY  | Progress: 33.33%\n",
      "margin\n",
      "Ticker: DLTR  | Progress: 34.38%\n",
      "Ticker: ASML  | Progress: 35.42%\n",
      "Ticker: ANSS  | Progress: 36.46%\n",
      "Ticker: TTWO  | Progress: 37.50%\n",
      "Ticker: CTSH  | Progress: 38.54%\n",
      "Ticker: CSGP  | Progress: 39.58%\n",
      "margin\n",
      "Ticker: NVDA  | Progress: 40.62%\n",
      "Ticker: BKNG  | Progress: 41.67%\n",
      "Ticker: ON    | Progress: 42.71%\n",
      "Ticker: ISRG  | Progress: 43.75%\n",
      "margin\n",
      "Ticker: MRVL  | Progress: 44.79%\n",
      "Ticker: ILMN  | Progress: 45.83%\n",
      "Ticker: ADI   | Progress: 46.88%\n",
      "Ticker: AEP   | Progress: 47.92%\n",
      "Ticker: AMD   | Progress: 48.96%\n",
      "Ticker: CDNS  | Progress: 50.00%\n",
      "Ticker: CSX   | Progress: 51.04%\n",
      "Ticker: HON   | Progress: 52.08%\n",
      "Ticker: MU    | Progress: 53.12%\n",
      "Ticker: XEL   | Progress: 54.17%\n",
      "Ticker: EXC   | Progress: 55.21%\n",
      "Ticker: PEP   | Progress: 56.25%\n",
      "Ticker: ROP   | Progress: 57.29%\n",
      "Ticker: TXN   | Progress: 58.33%\n",
      "Ticker: WBA   | Progress: 59.38%\n",
      "Ticker: MDLZ  | Progress: 60.42%\n",
      "Ticker: NFLX  | Progress: 61.46%\n",
      "Ticker: GOOGL | Progress: 62.50%\n",
      "margin\n",
      "Ticker: DXCM  | Progress: 63.54%\n",
      "Ticker: TMUS  | Progress: 64.58%\n",
      "margin\n",
      "margin\n",
      "Ticker: MELI  | Progress: 65.62%\n",
      "Ticker: AVGO  | Progress: 66.67%\n",
      "Ticker: VRSK  | Progress: 67.71%\n",
      "Ticker: FTNT  | Progress: 68.75%\n",
      "Ticker: CHTR  | Progress: 69.79%\n",
      "Ticker: TSLA  | Progress: 70.83%\n",
      "Ticker: NXPI  | Progress: 71.88%\n",
      "Ticker: FANG  | Progress: 72.92%\n",
      "margin\n",
      "Ticker: META  | Progress: 73.96%\n",
      "Ticker: PANW  | Progress: 75.00%\n",
      "Ticker: WDAY  | Progress: 76.04%\n",
      "Ticker: CDW   | Progress: 77.08%\n",
      "Ticker: GOOG  | Progress: 78.12%\n",
      "margin\n",
      "Ticker: PYPL  | Progress: 79.17%\n",
      "Ticker: KHC   | Progress: 80.21%\n",
      "Ticker: TEAM  | Progress: 81.25%\n",
      "Ticker: CCEP  | Progress: 82.29%\n",
      "Ticker: BKR   | Progress: 83.33%\n",
      "margin\n",
      "margin\n",
      "Ticker: MDB   | Progress: 84.38%\n",
      "Ticker: ZS    | Progress: 85.42%\n",
      "margin\n",
      "margin\n",
      "margin\n",
      "Ticker: PDD   | Progress: 86.46%\n",
      "margin\n",
      "margin\n",
      "Ticker: MRNA  | Progress: 87.50%\n",
      "Ticker: CRWD  | Progress: 88.54%\n",
      "margin\n",
      "Ticker: DDOG  | Progress: 89.58%\n",
      "Ticker: KDP   | Progress: 90.62%\n",
      "margin\n",
      "Ticker: TTD   | Progress: 91.67%\n",
      "Ticker: AMZN  | Progress: 92.71%\n",
      "Ticker: AMAT  | Progress: 93.75%\n",
      "Ticker: LIN   | Progress: 94.79%\n",
      "Ticker: AZN   | Progress: 95.83%\n",
      "Ticker: LULU  | Progress: 96.88%\n",
      "Ticker: WBD   | Progress: 97.92%\n",
      "Ticker: ADP   | Progress: 98.96%\n",
      "Ticker: MAR   | Progress: 100.00%\n"
     ]
    }
   ],
   "source": [
    "yf_filename = os.path.abspath('data/ohlcv/{}.csv') # Template for filename for a ticker symbol\n",
    "results_data = []\n",
    "for key,ticker in enumerate(tickers):\n",
    "    for strategy_name, strategy in strategies.items():    \n",
    "        cerebro = bt.Cerebro()\n",
    "        cerebro.addstrategy(strategy[0], **strategy[1])\n",
    "        feed, first_close = create_ev_bt_feed(ticker, filename=yf_filename)\n",
    "        cerebro.adddata(feed)\n",
    "        value_start = 10 * first_close\n",
    "        cerebro.broker.setcash(value_start)\n",
    "        cerebro.addanalyzer(btanalyzers.TimeReturn, _name='return_str', timeframe=bt.TimeFrame.NoTimeFrame)\n",
    "        cerebro.addanalyzer(btanalyzers.SharpeRatio, _name='sharpe', riskfreerate=.0)\n",
    "\n",
    "        # The buy and hold strategy does not have to account for risks associated with the lack of ability of buying back assets.\n",
    "        cerebro.addsizer(PercentSizer, percents=100.0 if strategy_name == 'B&H' else 90.0)\n",
    "        cerebro.broker.setcommission(commission=.0)\n",
    "        cerebro.broker.set_slippage_perc(config['slippage_pct']/100)\n",
    "        cerebro.broker.set_shortcash(False)\n",
    "        thestrat = cerebro.run()[0]\n",
    "        return_pct = list(thestrat.analyzers.return_str.get_analysis().values())[0]*100\n",
    "        sharpe = thestrat.analyzers.sharpe.get_analysis()['sharperatio']\n",
    "\n",
    "        # Calculate stop loss level\n",
    "        if strategy_name == 'DRL':\n",
    "            # For the DRL strategy map actions to stop levels and calculate the mean\n",
    "            stops = pd.Series([(.0 if i == 0 else config['stop_pct'][i-1]) for i in thestrat.actions])\n",
    "            sl_mean = stops.mean()\n",
    "        elif strategy_name.startswith('FixedSL') or strategy_name.startswith('TrailingSL'):\n",
    "            # For trailing stop and fixed stop strategies the stop level is always the same\n",
    "            sl_mean = strategy[1]['stop_pct']\n",
    "        else:\n",
    "            # For the buy and hold strategy the stop level is not applicable\n",
    "            sl_mean = pd.NA\n",
    "        \n",
    "        # Store data for a ticker and for a strategy\n",
    "        results_data.append((strategy_name, ticker, sharpe, return_pct, \n",
    "                             value_start, cerebro.broker.get_value(), sl_mean, thestrat.triggs_count))\n",
    "\n",
    "    # Track progress of the validation\n",
    "    print(\"{:<13} | {:<15}\".format(\n",
    "        f\"Ticker: {ticker}\",\n",
    "        f\"Progress: {(key+1) / len(tickers) * 100:.2f}%\"))\n",
    "\n",
    "# Create dataframe from the list of data, and save the data into a file.\n",
    "df_results = pd.DataFrame(results_data, columns=['Strategy', 'Ticker', 'Sharpe', 'Return', 'Value_s', 'Value_e', 'SLVL_mean', 'Stop count'])\n",
    "df_results.set_index(['Strategy', 'Ticker'], inplace=True)\n",
    "df_results.to_csv('results/results.csv')"
   ]
  }
 ],
 "metadata": {
  "kernelspec": {
   "display_name": "master-thesis",
   "language": "python",
   "name": "python3"
  },
  "language_info": {
   "codemirror_mode": {
    "name": "ipython",
    "version": 3
   },
   "file_extension": ".py",
   "mimetype": "text/x-python",
   "name": "python",
   "nbconvert_exporter": "python",
   "pygments_lexer": "ipython3",
   "version": "3.12.3"
  }
 },
 "nbformat": 4,
 "nbformat_minor": 2
}
