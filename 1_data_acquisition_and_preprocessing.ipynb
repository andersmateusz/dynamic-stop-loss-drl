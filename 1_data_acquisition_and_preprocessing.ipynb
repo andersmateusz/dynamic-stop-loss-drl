{
 "cells": [
  {
   "cell_type": "code",
   "execution_count": 32,
   "metadata": {},
   "outputs": [],
   "source": [
    "import pandas as pd\n",
    "from pathlib import Path\n",
    "import requests\n",
    "import os\n",
    "import yfinance as yf\n",
    "from config import config"
   ]
  },
  {
   "cell_type": "markdown",
   "metadata": {},
   "source": [
    "## List NASDAQ-100 symbols\n",
    "In order to list NASDAQ-100 index symbols API endpoint was taken over form official NASDAQ website under https://www.nasdaq.com URL. \n",
    "For the request to be successful 'user-agent' header must be appended, otherwise the request is rejected.\n",
    "Symbols are stored in seperate file in CSV format.\n",
    "It is important to note that NASDAQ-100 index list changes over time.\n",
    "The NASDAQ-100 is composed of the 100 largest non-financial companies listed on the NASDAQ stock exchange, based on market capitalization.\n",
    "The NASDAQ-100 undergoes an annual rebalancing, typically in December."
   ]
  },
  {
   "cell_type": "code",
   "execution_count": 33,
   "metadata": {},
   "outputs": [
    {
     "data": {
      "text/plain": [
       "0     CPRT\n",
       "1     COST\n",
       "2     AAPL\n",
       "3     AMGN\n",
       "4    CMCSA\n",
       "dtype: object"
      ]
     },
     "execution_count": 33,
     "metadata": {},
     "output_type": "execute_result"
    }
   ],
   "source": [
    "tic_filename = Path('data/nasdaq_index_list.csv')\n",
    "Path('data').mkdir(exist_ok=True)\n",
    "if not tic_filename.exists():\n",
    "    resp = requests.get(\n",
    "        'https://api.nasdaq.com/api/quote/list-type/nasdaq100',\n",
    "        headers={\n",
    "            'accept': 'application/json',\n",
    "            # Pretend to be a browser\n",
    "            'user-agent': 'Mozilla/5.0 (Macintosh; Intel Mac OS X' +\\\n",
    "            ' 10.15; rv:123.0) Gecko/20100101 Firefox/123.0',\n",
    "        }\n",
    "    )\n",
    "    data = resp.json()['data']['data']\n",
    "    df = pd.DataFrame(data['rows'], columns=data['headers'])\n",
    "    df.to_csv(tic_filename, columns=['symbol', 'companyName'], index=False)\n",
    "    tickers = df['symbol'].tolist()\n",
    "else:\n",
    "    tickers = pd.read_csv(tic_filename)['symbol'].tolist()\n",
    "\n",
    "pd.Series(tickers).head()"
   ]
  },
  {
   "cell_type": "markdown",
   "metadata": {},
   "source": [
    "## Download data via yfinance API\n",
    "Data is downloaded with usage of yfinance Python SDK.\n",
    "The data must be filtered out.\n",
    "The data cannot contain zero values (except for Volume), otherwise zero division error might be thrown during indicators calculations.\n",
    "Low cannot be equal to High, because calculation of William’s Oscillator will fail due to a zero division error.\n",
    "Data is dowloaded for period from 'd_start' to 'd_end' provided in the configuration dictionary.\n",
    "The data for each ticker is stored in a file named after the ticker's symbol.\n",
    "The data is stored in CSV format."
   ]
  },
  {
   "cell_type": "code",
   "execution_count": 34,
   "metadata": {},
   "outputs": [],
   "source": [
    "yf_filename = os.path.abspath('data/ohlcv/{}.csv') # Template for filename for a ticker symbol\n",
    "Path('data/ohlcv').mkdir(parents=True, exist_ok=True)\n",
    "tick_len = len(tickers)\n",
    "for k,ticker in enumerate(tickers):\n",
    "    if not os.path.exists(yf_filename.format(ticker)):\n",
    "        df = yf.Ticker(ticker).history(\n",
    "            interval='1d',\n",
    "            start=config['d_start'],\n",
    "            end=config['d_end']\n",
    "        )\n",
    "        df.drop(['Dividends', 'Stock Splits'], axis=1, inplace=True) # Drop not needed columns\n",
    "        df = df[\n",
    "            (df['Close'] > 0) & \n",
    "            (df['High'] > 0) & \n",
    "            (df['Low'] > 0) & \n",
    "            (df['Open'] > 0) & \n",
    "            (df['Low'] != df['High'])\n",
    "        ] # Filter out data that might trigger zero division error during indicators calculations\n",
    "        df.to_csv(yf_filename.format(ticker))\n",
    "        print('Downloaded data for %s ticker symbol. Progress: %.2f%%' % (ticker, (k+1)/tick_len*100))\n"
   ]
  },
  {
   "cell_type": "markdown",
   "metadata": {},
   "source": [
    "## Filter tickers\n",
    "List of tickers must be filtered out, because data length of each ticker must be long enough to process one episode. Additional number of days (32) is added to minimum data length, which is required for indicators calculations."
   ]
  },
  {
   "cell_type": "code",
   "execution_count": 35,
   "metadata": {},
   "outputs": [
    {
     "name": "stdout",
     "output_type": "stream",
     "text": [
      "Removed GFS\n",
      "Removed DASH\n",
      "Removed CEG\n",
      "Removed GEHC\n",
      "Removed ABNB\n"
     ]
    },
    {
     "data": {
      "text/plain": [
       "96"
      ]
     },
     "execution_count": 35,
     "metadata": {},
     "output_type": "execute_result"
    }
   ],
   "source": [
    "filtered_tic_filename = Path('data/nasdaq_index_list_filtered.csv')\n",
    "min_dlen = config['eval_years'] * 252 + config['trading_days'] + 32\n",
    "for ticker in tickers[:]:  # Creates a copy of tickers for the loop\n",
    "    if len(pd.read_csv(yf_filename.format(ticker)).index) < min_dlen:\n",
    "        print('Removed ' + ticker)\n",
    "        tickers.remove(ticker)\n",
    "pd.Series(tickers).to_csv(filtered_tic_filename, index=False)\n",
    "len(tickers)"
   ]
  },
  {
   "cell_type": "markdown",
   "metadata": {},
   "source": [
    "## Tickers"
   ]
  },
  {
   "cell_type": "code",
   "execution_count": 44,
   "metadata": {},
   "outputs": [
    {
     "data": {
      "text/html": [
       "<div>\n",
       "<style scoped>\n",
       "    .dataframe tbody tr th:only-of-type {\n",
       "        vertical-align: middle;\n",
       "    }\n",
       "\n",
       "    .dataframe tbody tr th {\n",
       "        vertical-align: top;\n",
       "    }\n",
       "\n",
       "    .dataframe thead th {\n",
       "        text-align: right;\n",
       "    }\n",
       "</style>\n",
       "<table border=\"1\" class=\"dataframe\">\n",
       "  <thead>\n",
       "    <tr style=\"text-align: right;\">\n",
       "      <th></th>\n",
       "      <th>Symbol</th>\n",
       "      <th>Company name</th>\n",
       "    </tr>\n",
       "  </thead>\n",
       "  <tbody>\n",
       "    <tr>\n",
       "      <th>0</th>\n",
       "      <td>CPRT</td>\n",
       "      <td>Copart, Inc. (DE) Common Stock</td>\n",
       "    </tr>\n",
       "    <tr>\n",
       "      <th>1</th>\n",
       "      <td>COST</td>\n",
       "      <td>Costco Wholesale Corporation Common Stock</td>\n",
       "    </tr>\n",
       "    <tr>\n",
       "      <th>2</th>\n",
       "      <td>AAPL</td>\n",
       "      <td>Apple Inc. Common Stock</td>\n",
       "    </tr>\n",
       "    <tr>\n",
       "      <th>3</th>\n",
       "      <td>AMGN</td>\n",
       "      <td>Amgen Inc. Common Stock</td>\n",
       "    </tr>\n",
       "    <tr>\n",
       "      <th>4</th>\n",
       "      <td>CMCSA</td>\n",
       "      <td>Comcast Corporation Class A Common Stock</td>\n",
       "    </tr>\n",
       "    <tr>\n",
       "      <th>5</th>\n",
       "      <td>...</td>\n",
       "      <td>...</td>\n",
       "    </tr>\n",
       "    <tr>\n",
       "      <th>96</th>\n",
       "      <td>AZN</td>\n",
       "      <td>AstraZeneca PLC American Depositary Shares</td>\n",
       "    </tr>\n",
       "    <tr>\n",
       "      <th>97</th>\n",
       "      <td>LULU</td>\n",
       "      <td>lululemon athletica inc. Common Stock</td>\n",
       "    </tr>\n",
       "    <tr>\n",
       "      <th>98</th>\n",
       "      <td>WBD</td>\n",
       "      <td>Warner Bros. Discovery, Inc. Series A Common S...</td>\n",
       "    </tr>\n",
       "    <tr>\n",
       "      <th>99</th>\n",
       "      <td>ADP</td>\n",
       "      <td>Automatic Data Processing, Inc. Common Stock</td>\n",
       "    </tr>\n",
       "    <tr>\n",
       "      <th>100</th>\n",
       "      <td>MAR</td>\n",
       "      <td>Marriott International Class A Common Stock</td>\n",
       "    </tr>\n",
       "  </tbody>\n",
       "</table>\n",
       "</div>"
      ],
      "text/plain": [
       "    Symbol                                       Company name\n",
       "0     CPRT                     Copart, Inc. (DE) Common Stock\n",
       "1     COST          Costco Wholesale Corporation Common Stock\n",
       "2     AAPL                            Apple Inc. Common Stock\n",
       "3     AMGN                            Amgen Inc. Common Stock\n",
       "4    CMCSA           Comcast Corporation Class A Common Stock\n",
       "5      ...                                                ...\n",
       "96     AZN         AstraZeneca PLC American Depositary Shares\n",
       "97    LULU              lululemon athletica inc. Common Stock\n",
       "98     WBD  Warner Bros. Discovery, Inc. Series A Common S...\n",
       "99     ADP       Automatic Data Processing, Inc. Common Stock\n",
       "100    MAR        Marriott International Class A Common Stock"
      ]
     },
     "execution_count": 44,
     "metadata": {},
     "output_type": "execute_result"
    }
   ],
   "source": [
    "tickers_table = pd.read_csv(tic_filename)\n",
    "tickers_table = pd.concat([tickers_table.head(), tickers_table.tail()])\n",
    "tickers_table.rename(columns={'companyName': 'Company name', 'symbol': 'Symbol'}, inplace=True)\n",
    "tickers_head = tickers_table.copy().head()\n",
    "tickers_head.loc[5] = ['...']*len(tickers_head.columns)\n",
    "head_tail_tickers = pd.concat([tickers_head, tickers_table.tail()])\n",
    "with open(\"tables/tickers.tex\", \"w\") as file:\n",
    "    # Write your text to the file\n",
    "    file.write(head_tail_tickers.to_latex(index=False))\n",
    "head_tail_tickers"
   ]
  },
  {
   "cell_type": "markdown",
   "metadata": {},
   "source": [
    "## Data shape  - Apple stock"
   ]
  },
  {
   "cell_type": "code",
   "execution_count": 42,
   "metadata": {},
   "outputs": [
    {
     "data": {
      "text/html": [
       "<div>\n",
       "<style scoped>\n",
       "    .dataframe tbody tr th:only-of-type {\n",
       "        vertical-align: middle;\n",
       "    }\n",
       "\n",
       "    .dataframe tbody tr th {\n",
       "        vertical-align: top;\n",
       "    }\n",
       "\n",
       "    .dataframe thead th {\n",
       "        text-align: right;\n",
       "    }\n",
       "</style>\n",
       "<table border=\"1\" class=\"dataframe\">\n",
       "  <thead>\n",
       "    <tr style=\"text-align: right;\">\n",
       "      <th></th>\n",
       "      <th>Date</th>\n",
       "      <th>Open</th>\n",
       "      <th>High</th>\n",
       "      <th>Low</th>\n",
       "      <th>Close</th>\n",
       "      <th>Volume</th>\n",
       "    </tr>\n",
       "  </thead>\n",
       "  <tbody>\n",
       "    <tr>\n",
       "      <th>0</th>\n",
       "      <td>2014-01-02 00:00:00-05:00</td>\n",
       "      <td>17.352864</td>\n",
       "      <td>17.395022</td>\n",
       "      <td>17.238569</td>\n",
       "      <td>17.273232</td>\n",
       "      <td>234684800</td>\n",
       "    </tr>\n",
       "    <tr>\n",
       "      <th>1</th>\n",
       "      <td>2014-01-03 00:00:00-05:00</td>\n",
       "      <td>17.264797</td>\n",
       "      <td>17.291028</td>\n",
       "      <td>16.87663</td>\n",
       "      <td>16.893806</td>\n",
       "      <td>392467600</td>\n",
       "    </tr>\n",
       "    <tr>\n",
       "      <th>2</th>\n",
       "      <td>2014-01-06 00:00:00-05:00</td>\n",
       "      <td>16.783571</td>\n",
       "      <td>17.075553</td>\n",
       "      <td>16.663342</td>\n",
       "      <td>16.985929</td>\n",
       "      <td>412610800</td>\n",
       "    </tr>\n",
       "    <tr>\n",
       "      <th>3</th>\n",
       "      <td>2014-01-07 00:00:00-05:00</td>\n",
       "      <td>16.998114</td>\n",
       "      <td>17.049328</td>\n",
       "      <td>16.798255</td>\n",
       "      <td>16.864458</td>\n",
       "      <td>317209200</td>\n",
       "    </tr>\n",
       "    <tr>\n",
       "      <th>4</th>\n",
       "      <td>2014-01-08 00:00:00-05:00</td>\n",
       "      <td>16.826042</td>\n",
       "      <td>17.036832</td>\n",
       "      <td>16.822296</td>\n",
       "      <td>16.971254</td>\n",
       "      <td>258529600</td>\n",
       "    </tr>\n",
       "    <tr>\n",
       "      <th>5</th>\n",
       "      <td>...</td>\n",
       "      <td>...</td>\n",
       "      <td>...</td>\n",
       "      <td>...</td>\n",
       "      <td>...</td>\n",
       "      <td>...</td>\n",
       "    </tr>\n",
       "  </tbody>\n",
       "</table>\n",
       "</div>"
      ],
      "text/plain": [
       "                        Date       Open       High        Low      Close  \\\n",
       "0  2014-01-02 00:00:00-05:00  17.352864  17.395022  17.238569  17.273232   \n",
       "1  2014-01-03 00:00:00-05:00  17.264797  17.291028   16.87663  16.893806   \n",
       "2  2014-01-06 00:00:00-05:00  16.783571  17.075553  16.663342  16.985929   \n",
       "3  2014-01-07 00:00:00-05:00  16.998114  17.049328  16.798255  16.864458   \n",
       "4  2014-01-08 00:00:00-05:00  16.826042  17.036832  16.822296  16.971254   \n",
       "5                        ...        ...        ...        ...        ...   \n",
       "\n",
       "      Volume  \n",
       "0  234684800  \n",
       "1  392467600  \n",
       "2  412610800  \n",
       "3  317209200  \n",
       "4  258529600  \n",
       "5        ...  "
      ]
     },
     "execution_count": 42,
     "metadata": {},
     "output_type": "execute_result"
    }
   ],
   "source": [
    "appl_head = pd.read_csv(yf_filename.format('AAPL'), parse_dates=True).head()\n",
    "appl_head.loc[5] = ['...']*len(appl_head.columns)\n",
    "with open('tables/data_shape.tex', 'w') as file:\n",
    "    file.write(appl_head.to_latex(index=False))\n",
    "appl_head"
   ]
  }
 ],
 "metadata": {
  "kernelspec": {
   "display_name": "master-thesis",
   "language": "python",
   "name": "python3"
  },
  "language_info": {
   "codemirror_mode": {
    "name": "ipython",
    "version": 3
   },
   "file_extension": ".py",
   "mimetype": "text/x-python",
   "name": "python",
   "nbconvert_exporter": "python",
   "pygments_lexer": "ipython3",
   "version": "3.12.3"
  }
 },
 "nbformat": 4,
 "nbformat_minor": 2
}
